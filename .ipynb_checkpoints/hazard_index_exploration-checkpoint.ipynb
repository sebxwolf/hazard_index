{
 "cells": [
  {
   "cell_type": "markdown",
   "metadata": {
    "toc": true
   },
   "source": [
    "<h1>Table of Contents<span class=\"tocSkip\"></span></h1>\n",
    "<div class=\"toc\"><ul class=\"toc-item\"></ul></div>"
   ]
  },
  {
   "cell_type": "code",
   "execution_count": 1,
   "metadata": {
    "ExecuteTime": {
     "end_time": "2019-11-23T14:14:07.204351Z",
     "start_time": "2019-11-23T14:14:05.484538Z"
    }
   },
   "outputs": [
    {
     "data": {
      "text/html": [
       "\n",
       "<style>\n",
       "    div#notebook-container    { width: 95%; }\n",
       "    div#menubar-container     { width: 65%; }\n",
       "    div#maintoolbar-container { width: 99%; }\n",
       "</style>\n"
      ],
      "text/plain": [
       "<IPython.core.display.HTML object>"
      ]
     },
     "metadata": {},
     "output_type": "display_data"
    }
   ],
   "source": [
    "from setup import *"
   ]
  },
  {
   "cell_type": "code",
   "execution_count": 2,
   "metadata": {
    "ExecuteTime": {
     "end_time": "2019-11-23T14:14:15.841905Z",
     "start_time": "2019-11-23T14:14:07.207341Z"
    }
   },
   "outputs": [],
   "source": [
    "data = json.load(open('./data/keplergl.json'))"
   ]
  },
  {
   "cell_type": "code",
   "execution_count": 3,
   "metadata": {
    "ExecuteTime": {
     "end_time": "2019-11-23T14:14:15.847665Z",
     "start_time": "2019-11-23T14:14:15.844444Z"
    }
   },
   "outputs": [],
   "source": [
    "dataset1 = data['datasets'][0]['data']['allData']"
   ]
  },
  {
   "cell_type": "code",
   "execution_count": 4,
   "metadata": {
    "ExecuteTime": {
     "end_time": "2019-11-23T14:14:16.059025Z",
     "start_time": "2019-11-23T14:14:15.851775Z"
    }
   },
   "outputs": [],
   "source": [
    "df1 = pd.DataFrame(dataset1)"
   ]
  },
  {
   "cell_type": "code",
   "execution_count": 5,
   "metadata": {
    "ExecuteTime": {
     "end_time": "2019-11-23T14:14:16.324503Z",
     "start_time": "2019-11-23T14:14:16.064861Z"
    }
   },
   "outputs": [],
   "source": [
    "df1.loc[:,'geometry'] = df1[0].map(lambda x: x['geometry']['coordinates'])"
   ]
  },
  {
   "cell_type": "code",
   "execution_count": 6,
   "metadata": {
    "ExecuteTime": {
     "end_time": "2019-11-23T14:14:16.358729Z",
     "start_time": "2019-11-23T14:14:16.327621Z"
    }
   },
   "outputs": [
    {
     "data": {
      "text/html": [
       "<div>\n",
       "<style scoped>\n",
       "    .dataframe tbody tr th:only-of-type {\n",
       "        vertical-align: middle;\n",
       "    }\n",
       "\n",
       "    .dataframe tbody tr th {\n",
       "        vertical-align: top;\n",
       "    }\n",
       "\n",
       "    .dataframe thead th {\n",
       "        text-align: right;\n",
       "    }\n",
       "</style>\n",
       "<table border=\"1\" class=\"dataframe\">\n",
       "  <thead>\n",
       "    <tr style=\"text-align: right;\">\n",
       "      <th></th>\n",
       "      <th>0</th>\n",
       "      <th>1</th>\n",
       "      <th>2</th>\n",
       "      <th>geometry</th>\n",
       "    </tr>\n",
       "  </thead>\n",
       "  <tbody>\n",
       "    <tr>\n",
       "      <th>0</th>\n",
       "      <td>{'type': 'Feature', 'properties': {'date': '20...</td>\n",
       "      <td>2019-10-01 00:00</td>\n",
       "      <td>1</td>\n",
       "      <td>[[[-121.0677943024656, 42.0517121830832], [-12...</td>\n",
       "    </tr>\n",
       "    <tr>\n",
       "      <th>1</th>\n",
       "      <td>{'type': 'Feature', 'properties': {'date': '20...</td>\n",
       "      <td>2019-10-01 00:00</td>\n",
       "      <td>1</td>\n",
       "      <td>[[[-121.09859615551288, 42.0414448987341], [-1...</td>\n",
       "    </tr>\n",
       "    <tr>\n",
       "      <th>2</th>\n",
       "      <td>{'type': 'Feature', 'properties': {'date': '20...</td>\n",
       "      <td>2019-10-01 00:00</td>\n",
       "      <td>3</td>\n",
       "      <td>[[[-121.08832887116378, 42.0414448987341], [-1...</td>\n",
       "    </tr>\n",
       "    <tr>\n",
       "      <th>3</th>\n",
       "      <td>{'type': 'Feature', 'properties': {'date': '20...</td>\n",
       "      <td>2019-10-01 00:00</td>\n",
       "      <td>4</td>\n",
       "      <td>[[[-121.07806158681468, 42.0414448987341], [-1...</td>\n",
       "    </tr>\n",
       "    <tr>\n",
       "      <th>4</th>\n",
       "      <td>{'type': 'Feature', 'properties': {'date': '20...</td>\n",
       "      <td>2019-10-01 00:00</td>\n",
       "      <td>2</td>\n",
       "      <td>[[[-121.0369924494183, 42.0414448987341], [-12...</td>\n",
       "    </tr>\n",
       "  </tbody>\n",
       "</table>\n",
       "</div>"
      ],
      "text/plain": [
       "                                                   0                 1  2  \\\n",
       "0  {'type': 'Feature', 'properties': {'date': '20...  2019-10-01 00:00  1   \n",
       "1  {'type': 'Feature', 'properties': {'date': '20...  2019-10-01 00:00  1   \n",
       "2  {'type': 'Feature', 'properties': {'date': '20...  2019-10-01 00:00  3   \n",
       "3  {'type': 'Feature', 'properties': {'date': '20...  2019-10-01 00:00  4   \n",
       "4  {'type': 'Feature', 'properties': {'date': '20...  2019-10-01 00:00  2   \n",
       "\n",
       "                                            geometry  \n",
       "0  [[[-121.0677943024656, 42.0517121830832], [-12...  \n",
       "1  [[[-121.09859615551288, 42.0414448987341], [-1...  \n",
       "2  [[[-121.08832887116378, 42.0414448987341], [-1...  \n",
       "3  [[[-121.07806158681468, 42.0414448987341], [-1...  \n",
       "4  [[[-121.0369924494183, 42.0414448987341], [-12...  "
      ]
     },
     "execution_count": 6,
     "metadata": {},
     "output_type": "execute_result"
    }
   ],
   "source": [
    "df1.head()"
   ]
  },
  {
   "cell_type": "code",
   "execution_count": 13,
   "metadata": {
    "ExecuteTime": {
     "end_time": "2019-11-23T14:26:42.983024Z",
     "start_time": "2019-11-23T14:26:42.978929Z"
    }
   },
   "outputs": [],
   "source": [
    "geometry = [Polygon(xy) for xy in df1.geometry[0]]"
   ]
  },
  {
   "cell_type": "code",
   "execution_count": 14,
   "metadata": {
    "ExecuteTime": {
     "end_time": "2019-11-23T14:26:52.950500Z",
     "start_time": "2019-11-23T14:26:52.945881Z"
    }
   },
   "outputs": [
    {
     "data": {
      "text/plain": [
       "[<shapely.geometry.polygon.Polygon at 0x1a43a4ef60>]"
      ]
     },
     "execution_count": 14,
     "metadata": {},
     "output_type": "execute_result"
    }
   ],
   "source": [
    "geometry"
   ]
  },
  {
   "cell_type": "code",
   "execution_count": 11,
   "metadata": {
    "ExecuteTime": {
     "end_time": "2019-11-23T14:22:15.284058Z",
     "start_time": "2019-11-23T14:22:15.281091Z"
    }
   },
   "outputs": [],
   "source": [
    "#df = df.drop(['Lon', 'Lat'], axis=1)\n",
    "#crs = {'init': 'epsg:4326'}\n",
    "#gdf = GeoDataFrame(df, crs=crs, geometry=geometry)"
   ]
  },
  {
   "cell_type": "code",
   "execution_count": null,
   "metadata": {},
   "outputs": [],
   "source": []
  },
  {
   "cell_type": "code",
   "execution_count": null,
   "metadata": {},
   "outputs": [],
   "source": []
  },
  {
   "cell_type": "code",
   "execution_count": null,
   "metadata": {},
   "outputs": [],
   "source": []
  }
 ],
 "metadata": {
  "kernelspec": {
   "display_name": "Python 3",
   "language": "python",
   "name": "python3"
  },
  "language_info": {
   "codemirror_mode": {
    "name": "ipython",
    "version": 3
   },
   "file_extension": ".py",
   "mimetype": "text/x-python",
   "name": "python",
   "nbconvert_exporter": "python",
   "pygments_lexer": "ipython3",
   "version": "3.7.1"
  },
  "toc": {
   "base_numbering": 1,
   "nav_menu": {},
   "number_sections": true,
   "sideBar": true,
   "skip_h1_title": false,
   "title_cell": "Table of Contents",
   "title_sidebar": "Contents",
   "toc_cell": true,
   "toc_position": {},
   "toc_section_display": true,
   "toc_window_display": false
  },
  "varInspector": {
   "cols": {
    "lenName": 16,
    "lenType": 16,
    "lenVar": 40
   },
   "kernels_config": {
    "python": {
     "delete_cmd_postfix": "",
     "delete_cmd_prefix": "del ",
     "library": "var_list.py",
     "varRefreshCmd": "print(var_dic_list())"
    },
    "r": {
     "delete_cmd_postfix": ") ",
     "delete_cmd_prefix": "rm(",
     "library": "var_list.r",
     "varRefreshCmd": "cat(var_dic_list()) "
    }
   },
   "types_to_exclude": [
    "module",
    "function",
    "builtin_function_or_method",
    "instance",
    "_Feature"
   ],
   "window_display": false
  }
 },
 "nbformat": 4,
 "nbformat_minor": 2
}
